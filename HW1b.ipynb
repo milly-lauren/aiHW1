{
  "nbformat": 4,
  "nbformat_minor": 0,
  "metadata": {
    "colab": {
      "name": "HW1b.ipynb",
      "provenance": [],
      "include_colab_link": true
    },
    "kernelspec": {
      "name": "python3",
      "display_name": "Python 3"
    }
  },
  "cells": [
    {
      "cell_type": "markdown",
      "metadata": {
        "id": "view-in-github",
        "colab_type": "text"
      },
      "source": [
        "<a href=\"https://colab.research.google.com/github/milly-lauren/aiHW1/blob/prob2/HW1b.ipynb\" target=\"_parent\"><img src=\"https://colab.research.google.com/assets/colab-badge.svg\" alt=\"Open In Colab\"/></a>"
      ]
    },
    {
      "cell_type": "markdown",
      "metadata": {
        "id": "Oq8-Wg0SRLPY",
        "colab_type": "text"
      },
      "source": [
        "## Extending linear regression using stochastic gradient descent to two weights (w1 and w2) and one bias term b."
      ]
    },
    {
      "cell_type": "markdown",
      "metadata": {
        "id": "QUM2XOg-To7x",
        "colab_type": "text"
      },
      "source": [
        "Main idea : y = w * x + b    ------->      y' = w1 * x1 + w2 * x2 + b\n",
        "\n",
        "http://rasbt.github.io/mlxtend/user_guide/general_concepts/gradient-optimization/"
      ]
    },
    {
      "cell_type": "code",
      "metadata": {
        "id": "Qwnppnl7Jsik",
        "colab_type": "code",
        "colab": {}
      },
      "source": [
        "%matplotlib inline\n",
        "import matplotlib as mpl\n",
        "import matplotlib.pyplot as plt\n",
        "mpl.rc('axes', labelsize=20)\n",
        "mpl.rc('xtick', labelsize=12)\n",
        "mpl.rc('ytick', labelsize=12)"
      ],
      "execution_count": 0,
      "outputs": []
    },
    {
      "cell_type": "code",
      "metadata": {
        "id": "GAUWH3-OW2Ps",
        "colab_type": "code",
        "colab": {}
      },
      "source": [
        "# The data is created\n",
        "import numpy as np\n",
        "np.random.seed(42)\n",
        "\n",
        "xs = 2 * np.random.rand(100, 1)\n",
        "ys = 4 + 3 * xs + np.random.rand(100, 1)"
      ],
      "execution_count": 0,
      "outputs": []
    },
    {
      "cell_type": "code",
      "metadata": {
        "id": "icLxj8h3W7Fz",
        "colab_type": "code",
        "colab": {}
      },
      "source": [
        "# The data is split into training and test sets\n",
        "\n",
        "# Training set\n",
        "train_xs = xs[:80]\n",
        "train_ys = ys[:80]\n",
        "\n",
        "# Testing set\n",
        "test_xs = xs[80:]\n",
        "test_ys = ys[80:]"
      ],
      "execution_count": 0,
      "outputs": []
    },
    {
      "cell_type": "markdown",
      "metadata": {
        "id": "vdDwzNxGXIN0",
        "colab_type": "text"
      },
      "source": [
        "### Start Linear Regression"
      ]
    },
    {
      "cell_type": "code",
      "metadata": {
        "id": "dB9_tbrUUmla",
        "colab_type": "code",
        "colab": {}
      },
      "source": [
        "# numer of epochs \n",
        "epochs = 10\n",
        "# learning rate \n",
        "lr = 0.01"
      ],
      "execution_count": 0,
      "outputs": []
    },
    {
      "cell_type": "code",
      "metadata": {
        "id": "h3klBAZWXU6U",
        "colab_type": "code",
        "colab": {}
      },
      "source": [
        "w_1 = np.random.randn(1)\n",
        "w_2 = np.random.randn(1)\n",
        "b = np.zeros(1)\n"
      ],
      "execution_count": 0,
      "outputs": []
    },
    {
      "cell_type": "code",
      "metadata": {
        "id": "FN0xu2z1d52n",
        "colab_type": "code",
        "outputId": "8ade1225-9da4-47e9-9e0a-45e5974c59bf",
        "colab": {
          "base_uri": "https://localhost:8080/",
          "height": 34
        }
      },
      "source": [
        "w_1"
      ],
      "execution_count": 0,
      "outputs": [
        {
          "output_type": "execute_result",
          "data": {
            "text/plain": [
              "array([-0.68002472])"
            ]
          },
          "metadata": {
            "tags": []
          },
          "execution_count": 15
        }
      ]
    },
    {
      "cell_type": "code",
      "metadata": {
        "id": "wq4tFvooWk50",
        "colab_type": "code",
        "colab": {}
      },
      "source": [
        "for epoch in np.arange(epochs):\n",
        "   for i in np.arange(79):\n",
        "      y_pred = b + w_1 * train_xs[i]  \n",
        "      y_pred = y_pred  + w_2 * train_xs[i+1]\n",
        "      \n",
        "      grad_w1 = (y_pred - train_ys[i]) * train_xs[i]\n",
        "      grad_w2 = (y_pred - train_ys[i]) * train_xs[i+1]\n",
        "      grad_b =  (y_pred - train_ys[i])\n",
        "      #y_pred = (w_1 * train_xs[i]) + (w_2 * train_xs[i+1]) + b\n",
        "      #grad_w = (y_pred - (train_ys[i]+train_ys[i+1])) * (train_xs[i] + train_xs[i+1])\n",
        "      #grad_b = (y_pred - train_ys[i])\n",
        "      \n",
        "      w_1 -= lr * grad_w1\n",
        "      w_2 -= lr * grad_w2\n",
        "      b -= lr * grad_b"
      ],
      "execution_count": 0,
      "outputs": []
    },
    {
      "cell_type": "code",
      "metadata": {
        "id": "KKVdDNUuc1bA",
        "colab_type": "code",
        "colab": {}
      },
      "source": [
        "pred_ys = w_1 * test_xs + b\n",
        "pred_ys = pred_ys + w_2 * test_xs"
      ],
      "execution_count": 0,
      "outputs": []
    },
    {
      "cell_type": "code",
      "metadata": {
        "id": "_1WbhPbjc4QL",
        "colab_type": "code",
        "outputId": "d0026b60-21ea-4ddb-ee83-e4c69595572e",
        "colab": {
          "base_uri": "https://localhost:8080/",
          "height": 294
        }
      },
      "source": [
        "plt.plot(test_xs, test_ys, \"k.\")\n",
        "plt.plot(test_xs, pred_ys, \"r.\") # predicted values\n",
        "plt.xlabel(\"$x_1$\", fontsize=18)\n",
        "plt.ylabel(\"$y$\", rotation=0, fontsize=18)\n",
        "plt.axis([0, 2, 0, 15])\n",
        "plt.show()"
      ],
      "execution_count": 0,
      "outputs": [
        {
          "output_type": "display_data",
          "data": {
            "image/png": "[encoded data removed]",
            "text/plain": [
              "<Figure size 432x288 with 1 Axes>"
            ]
          },
          "metadata": {
            "tags": []
          }
        }
      ]
    }
  ]
}